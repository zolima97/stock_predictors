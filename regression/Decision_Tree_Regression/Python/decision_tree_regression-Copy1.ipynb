{
 "cells": [
  {
   "cell_type": "markdown",
   "metadata": {
    "colab_type": "text",
    "id": "r3cas2_1T98w"
   },
   "source": [
    "# Decision Tree Regression"
   ]
  },
  {
   "cell_type": "markdown",
   "metadata": {
    "colab_type": "text",
    "id": "IODliia6U1xO"
   },
   "source": [
    "## Importing the libraries"
   ]
  },
  {
   "cell_type": "code",
   "execution_count": 1,
   "metadata": {
    "colab": {},
    "colab_type": "code",
    "id": "y98nA5UdU6Hf"
   },
   "outputs": [],
   "source": [
    "import numpy as np\n",
    "import matplotlib.pyplot as plt\n",
    "import pandas as pd"
   ]
  },
  {
   "cell_type": "markdown",
   "metadata": {
    "colab_type": "text",
    "id": "jpjZ43YlU8eI"
   },
   "source": [
    "## Importing the dataset"
   ]
  },
  {
   "cell_type": "code",
   "execution_count": 32,
   "metadata": {
    "colab": {},
    "colab_type": "code",
    "id": "pLVaXoYVU_Uy"
   },
   "outputs": [],
   "source": [
    "dataset = pd.read_csv('Position_Salaries.csv')\n",
    "X = dataset.iloc[:, 1:-1].values\n",
    "y = dataset.iloc[:, -1].values"
   ]
  },
  {
   "cell_type": "code",
   "execution_count": 21,
   "metadata": {},
   "outputs": [],
   "source": [
    "dataset = pd.read_csv('nasdaq.csv', sep = \";\")\n",
    "dataset = dataset.reset_index()\n",
    "dataset = dataset.drop([\"Date\"], axis = 1)\n",
    "X = dataset.iloc[:, :-1].values\n",
    "y = dataset.iloc[:, -1].values"
   ]
  },
  {
   "cell_type": "code",
   "execution_count": 23,
   "metadata": {},
   "outputs": [
    {
     "data": {
      "text/plain": [
       "array([  278.700012,   284.200012,   279.200012,   280.600006,\n",
       "         290.799988,   296.200012,   301.299988,   297.700012,\n",
       "         280.299988,   292.5     ,   314.      ,   324.899994,\n",
       "         335.799988,   359.5     ,   374.700012,   383.200012,\n",
       "         400.200012,   405.5     ,   371.399994,   382.899994,\n",
       "         350.700012,   360.799988,   359.600006,   348.799988,\n",
       "         392.100006,   425.      ,   430.100006,   417.799988,\n",
       "         416.5     ,   424.700012,   434.899994,   455.      ,\n",
       "         444.299988,   323.299988,   305.200012,   330.5     ,\n",
       "         344.700012,   367.      ,   374.600006,   379.200012,\n",
       "         370.299988,   394.700012,   387.299988,   376.600006,\n",
       "         387.700012,   382.5     ,   371.5     ,   381.399994,\n",
       "         401.299988,   399.700012,   406.700012,   427.600006,\n",
       "         446.200012,   435.299988,   453.799988,   469.299988,\n",
       "         472.899994,   455.600006,   456.100006,   454.799988,\n",
       "         415.799988,   425.799988,   435.5     ,   420.100006,\n",
       "         459.      ,   462.299988,   438.200012,   381.200012,\n",
       "         344.5     ,   329.799988,   359.100006,   373.799988,\n",
       "         414.200012,   453.100006,   482.299988,   484.720001,\n",
       "         506.109985,   475.920013,   502.040009,   525.679993,\n",
       "         526.880005,   542.97998 ,   523.900024,   586.340027,\n",
       "         620.210022,   633.469971,   603.77002 ,   578.679993,\n",
       "         585.309998,   563.599976,   580.830017,   563.119995,\n",
       "         583.27002 ,   605.169983,   652.72998 ,   676.950012,\n",
       "         696.340027,   670.77002 ,   690.130005,   661.419983,\n",
       "         700.530029,   703.950012,   704.700012,   742.840027,\n",
       "         762.780029,   779.26001 ,   754.390015,   776.799988,\n",
       "         800.469971,   792.5     ,   743.460022,   733.840027,\n",
       "         735.190002,   705.960022,   722.159973,   765.619995,\n",
       "         764.289978,   777.48999 ,   750.320007,   751.960022,\n",
       "         755.200012,   793.72998 ,   817.210022,   843.97998 ,\n",
       "         864.580017,   933.450012,  1001.210022,  1020.109985,\n",
       "        1043.540039,  1036.060059,  1059.199951,  1052.130005,\n",
       "        1059.790039,  1100.050049,  1101.400024,  1190.52002 ,\n",
       "        1243.430054,  1185.02002 ,  1080.589966,  1141.5     ,\n",
       "        1226.920044,  1221.51001 ,  1292.609985,  1291.030029,\n",
       "        1379.849976,  1309.      ,  1221.699951,  1260.76001 ,\n",
       "        1400.319946,  1442.069946,  1593.810059,  1587.319946,\n",
       "        1685.689941,  1593.609985,  1600.550049,  1570.349976,\n",
       "        1619.359985,  1770.51001 ,  1835.680054,  1868.410034,\n",
       "        1778.869995,  1894.73999 ,  1872.390015,  1499.25    ,\n",
       "        1693.839966,  1771.390015,  1949.540039,  2192.689941,\n",
       "        2505.889893,  2288.030029,  2461.399902,  2542.860107,\n",
       "        2470.52002 ,  2686.120117,  2638.48999 ,  2739.350098,\n",
       "        2746.159912,  2966.429932,  3336.159912,  4069.310059,\n",
       "        3940.350098,  4696.689941,  4572.830078,  3860.659912,\n",
       "        3400.909912,  3966.110107,  3766.98999 ,  4206.350098,\n",
       "        3672.820068,  3369.629883,  2597.929932,  2470.52002 ,\n",
       "        2772.72998 ,  2151.830078,  1840.26001 ,  2116.23999 ,\n",
       "        2110.48999 ,  2160.540039,  2027.130005,  1805.430054,\n",
       "        1498.800049,  1690.199951,  1930.579956,  1950.400024,\n",
       "        1934.030029,  1731.48999 ,  1845.349976,  1688.22998 ,\n",
       "        1615.72998 ,  1463.209961,  1328.26001 ,  1314.849976,\n",
       "        1172.060059,  1329.75    ,  1478.780029,  1335.51001 ,\n",
       "        1320.910034,  1337.52002 ,  1341.170044,  1464.310059,\n",
       "        1595.910034,  1622.800049,  1735.02002 ,  1810.449951,\n",
       "        1786.939941,  1932.209961,  1960.26001 ,  2003.369995,\n",
       "        2066.149902,  2029.819946,  1994.219971,  1920.150024,\n",
       "        1986.73999 ,  2047.790039,  1887.359985,  1838.099976,\n",
       "        1896.839966,  1974.98999 ,  2096.810059,  2175.439941,\n",
       "        2062.409912,  2051.719971,  1999.22998 ,  1921.650024,\n",
       "        2068.219971,  2056.959961,  2184.830078,  2152.090088,\n",
       "        2151.689941,  2120.300049,  2232.820068,  2205.320068,\n",
       "        2305.820068,  2281.389893,  2339.790039,  2322.570068,\n",
       "        2178.879883,  2172.090088,  2091.469971,  2183.75    ,\n",
       "        2258.429932,  2366.709961,  2431.77002 ,  2415.290039,\n",
       "        2463.929932,  2416.149902,  2421.639893,  2525.090088,\n",
       "        2604.52002 ,  2603.22998 ,  2546.27002 ,  2596.360107,\n",
       "        2701.5     ,  2859.120117,  2660.959961,  2652.280029,\n",
       "        2389.860107,  2271.47998 ,  2279.100098,  2412.800049,\n",
       "        2522.659912,  2292.97998 ,  2325.550049,  2367.52002 ,\n",
       "        2091.879883,  1720.949951,  1535.569946,  1577.030029,\n",
       "        1476.420044,  1377.839966,  1528.589966,  1717.300049,\n",
       "        1774.329956,  1835.040039,  1978.5     ,  2009.060059,\n",
       "        2122.419922,  2045.109985,  2144.600098,  2269.149902,\n",
       "        2147.350098,  2238.26001 ,  2397.959961,  2461.189941,\n",
       "        2257.040039,  2109.23999 ,  2254.699951,  2114.030029,\n",
       "        2368.620117,  2507.409912,  2498.22998 ,  2652.870117,\n",
       "        2700.080078,  2782.27002 ,  2781.070068,  2873.540039,\n",
       "        2835.300049,  2773.52002 ,  2756.379883,  2579.459961,\n",
       "        2415.399902,  2684.409912,  2620.340088,  2605.149902,\n",
       "        2813.840088,  2966.889893,  3091.570068,  3046.360107,\n",
       "        2827.340088,  2935.050049,  2939.52002 ,  3066.959961,\n",
       "        3116.22998 ,  2977.22998 ,  3010.23999 ,  3019.51001 ,\n",
       "        3142.129883,  3160.189941,  3267.52002 ,  3328.790039,\n",
       "        3455.909912,  3403.25    ,  3626.370117,  3589.870117,\n",
       "        3771.47998 ,  3919.709961,  4059.889893,  4176.589844,\n",
       "        4103.879883,  4308.120117,  4198.990234,  4114.560059,\n",
       "        4242.620117,  4408.180176,  4369.77002 ,  4580.27002 ,\n",
       "        4493.390137,  4630.740234,  4791.629883,  4736.049805,\n",
       "        4635.240234,  4963.529785,  4900.879883,  4941.419922,\n",
       "        5070.029785,  4986.870117,  5128.279785,  4776.509766,\n",
       "        4620.160156,  5053.75    ,  5108.669922,  5007.410156,\n",
       "        4613.950195,  4557.950195,  4869.850098,  4775.359863,\n",
       "        4948.049805,  4842.669922,  5162.129883,  5213.220215,\n",
       "        5312.      ,  5189.140137,  5323.680176,  5383.120117,\n",
       "        5614.790039,  5825.439941,  5911.740234,  6047.609863,\n",
       "        6198.52002 ,  6140.419922,  6348.120117,  6428.660156,\n",
       "        6495.959961,  6727.669922,  6873.970215,  6903.390137,\n",
       "        7411.47998 ,  7273.009766,  7063.450195,  7066.27002 ,\n",
       "        7442.120117,  7510.299805,  7671.790039,  8109.540039,\n",
       "        8046.350098,  7305.899902,  7330.540039,  6635.279785,\n",
       "        7281.740234,  7532.529785,  7729.319824,  8095.390137,\n",
       "        7453.149902,  8006.240234,  8175.419922,  7962.879883,\n",
       "        7999.339844,  8292.360352,  8665.469727,  8972.599609,\n",
       "        9150.94043 ,  8567.370117,  7700.100098,  8889.549805,\n",
       "        9489.870117, 10058.769531, 10745.269531, 11775.459961,\n",
       "       11167.509766, 10911.589844, 12198.740234, 12888.280273,\n",
       "       13070.69043 , 13192.349609, 13246.870117, 13962.679688,\n",
       "       13748.740234, 14503.950195, 14672.679688, 15259.240234,\n",
       "       14448.580078, 15498.389648, 15860.959961])"
      ]
     },
     "execution_count": 23,
     "metadata": {},
     "output_type": "execute_result"
    }
   ],
   "source": [
    "y"
   ]
  },
  {
   "cell_type": "code",
   "execution_count": 33,
   "metadata": {},
   "outputs": [
    {
     "data": {
      "text/html": [
       "<div>\n",
       "<style scoped>\n",
       "    .dataframe tbody tr th:only-of-type {\n",
       "        vertical-align: middle;\n",
       "    }\n",
       "\n",
       "    .dataframe tbody tr th {\n",
       "        vertical-align: top;\n",
       "    }\n",
       "\n",
       "    .dataframe thead th {\n",
       "        text-align: right;\n",
       "    }\n",
       "</style>\n",
       "<table border=\"1\" class=\"dataframe\">\n",
       "  <thead>\n",
       "    <tr style=\"text-align: right;\">\n",
       "      <th></th>\n",
       "      <th>Position</th>\n",
       "      <th>Level</th>\n",
       "      <th>Salary</th>\n",
       "    </tr>\n",
       "  </thead>\n",
       "  <tbody>\n",
       "    <tr>\n",
       "      <th>0</th>\n",
       "      <td>Business Analyst</td>\n",
       "      <td>1</td>\n",
       "      <td>45000</td>\n",
       "    </tr>\n",
       "    <tr>\n",
       "      <th>1</th>\n",
       "      <td>Junior Consultant</td>\n",
       "      <td>2</td>\n",
       "      <td>50000</td>\n",
       "    </tr>\n",
       "    <tr>\n",
       "      <th>2</th>\n",
       "      <td>Senior Consultant</td>\n",
       "      <td>3</td>\n",
       "      <td>60000</td>\n",
       "    </tr>\n",
       "    <tr>\n",
       "      <th>3</th>\n",
       "      <td>Manager</td>\n",
       "      <td>4</td>\n",
       "      <td>80000</td>\n",
       "    </tr>\n",
       "    <tr>\n",
       "      <th>4</th>\n",
       "      <td>Country Manager</td>\n",
       "      <td>5</td>\n",
       "      <td>110000</td>\n",
       "    </tr>\n",
       "    <tr>\n",
       "      <th>5</th>\n",
       "      <td>Region Manager</td>\n",
       "      <td>6</td>\n",
       "      <td>150000</td>\n",
       "    </tr>\n",
       "    <tr>\n",
       "      <th>6</th>\n",
       "      <td>Partner</td>\n",
       "      <td>7</td>\n",
       "      <td>200000</td>\n",
       "    </tr>\n",
       "    <tr>\n",
       "      <th>7</th>\n",
       "      <td>Senior Partner</td>\n",
       "      <td>8</td>\n",
       "      <td>300000</td>\n",
       "    </tr>\n",
       "    <tr>\n",
       "      <th>8</th>\n",
       "      <td>C-level</td>\n",
       "      <td>9</td>\n",
       "      <td>500000</td>\n",
       "    </tr>\n",
       "    <tr>\n",
       "      <th>9</th>\n",
       "      <td>CEO</td>\n",
       "      <td>10</td>\n",
       "      <td>1000000</td>\n",
       "    </tr>\n",
       "  </tbody>\n",
       "</table>\n",
       "</div>"
      ],
      "text/plain": [
       "            Position  Level   Salary\n",
       "0   Business Analyst      1    45000\n",
       "1  Junior Consultant      2    50000\n",
       "2  Senior Consultant      3    60000\n",
       "3            Manager      4    80000\n",
       "4    Country Manager      5   110000\n",
       "5     Region Manager      6   150000\n",
       "6            Partner      7   200000\n",
       "7     Senior Partner      8   300000\n",
       "8            C-level      9   500000\n",
       "9                CEO     10  1000000"
      ]
     },
     "execution_count": 33,
     "metadata": {},
     "output_type": "execute_result"
    }
   ],
   "source": [
    "dataset"
   ]
  },
  {
   "cell_type": "markdown",
   "metadata": {
    "colab_type": "text",
    "id": "g16qFkFQVC35"
   },
   "source": [
    "## Training the Decision Tree Regression model on the whole dataset"
   ]
  },
  {
   "cell_type": "code",
   "execution_count": 34,
   "metadata": {
    "colab": {
     "base_uri": "https://localhost:8080/",
     "height": 121
    },
    "colab_type": "code",
    "executionInfo": {
     "elapsed": 1050,
     "status": "ok",
     "timestamp": 1587885283111,
     "user": {
      "displayName": "Hadelin de Ponteves",
      "photoUrl": "https://lh3.googleusercontent.com/a-/AOh14GhEuXdT7eQweUmRPW8_laJuPggSK6hfvpl5a6WBaA=s64",
      "userId": "15047218817161520419"
     },
     "user_tz": -240
    },
    "id": "SLDKyv1SVUqS",
    "outputId": "a633ebbf-6fea-4b97-ccd8-1f8851e9d363"
   },
   "outputs": [
    {
     "data": {
      "text/plain": [
       "DecisionTreeRegressor(random_state=0)"
      ]
     },
     "execution_count": 34,
     "metadata": {},
     "output_type": "execute_result"
    }
   ],
   "source": [
    "from sklearn.tree import DecisionTreeRegressor\n",
    "regressor = DecisionTreeRegressor(random_state = 0)\n",
    "regressor.fit(X, y)"
   ]
  },
  {
   "cell_type": "markdown",
   "metadata": {
    "colab_type": "text",
    "id": "MQRGPTH3VcOn"
   },
   "source": [
    "## Predicting a new result"
   ]
  },
  {
   "cell_type": "code",
   "execution_count": 37,
   "metadata": {
    "colab": {
     "base_uri": "https://localhost:8080/",
     "height": 35
    },
    "colab_type": "code",
    "executionInfo": {
     "elapsed": 991,
     "status": "ok",
     "timestamp": 1587885288845,
     "user": {
      "displayName": "Hadelin de Ponteves",
      "photoUrl": "https://lh3.googleusercontent.com/a-/AOh14GhEuXdT7eQweUmRPW8_laJuPggSK6hfvpl5a6WBaA=s64",
      "userId": "15047218817161520419"
     },
     "user_tz": -240
    },
    "id": "_FpGZf7vVgrK",
    "outputId": "54f36048-d4a1-4143-8b2b-b5aa32233b68"
   },
   "outputs": [
    {
     "data": {
      "text/plain": [
       "array([1000000.])"
      ]
     },
     "execution_count": 37,
     "metadata": {},
     "output_type": "execute_result"
    }
   ],
   "source": [
    "regressor.predict([[2000]])"
   ]
  },
  {
   "cell_type": "markdown",
   "metadata": {
    "colab_type": "text",
    "id": "ph8ExBj0VkIT"
   },
   "source": [
    "## Visualising the Decision Tree Regression results (higher resolution)"
   ]
  },
  {
   "cell_type": "code",
   "execution_count": 36,
   "metadata": {
    "colab": {
     "base_uri": "https://localhost:8080/",
     "height": 295
    },
    "colab_type": "code",
    "executionInfo": {
     "elapsed": 975,
     "status": "ok",
     "timestamp": 1587885301261,
     "user": {
      "displayName": "Hadelin de Ponteves",
      "photoUrl": "https://lh3.googleusercontent.com/a-/AOh14GhEuXdT7eQweUmRPW8_laJuPggSK6hfvpl5a6WBaA=s64",
      "userId": "15047218817161520419"
     },
     "user_tz": -240
    },
    "id": "zzH1Vv1oVrqe",
    "outputId": "84111519-5c51-498c-c330-0d53825849e3"
   },
   "outputs": [
    {
     "data": {
      "image/png": "[encoded data removed]",
      "text/plain": [
       "<Figure size 432x288 with 1 Axes>"
      ]
     },
     "metadata": {
      "needs_background": "light"
     },
     "output_type": "display_data"
    }
   ],
   "source": [
    "X_grid = np.arange(min(X), max(X), 0.01)\n",
    "X_grid = X_grid.reshape((len(X_grid), 1))\n",
    "plt.scatter(X, y, color = 'red')\n",
    "plt.plot(X_grid, regressor.predict(X_grid), color = 'blue')\n",
    "plt.title('Truth or Bluff (Decision Tree Regression)')\n",
    "plt.xlabel('Position level')\n",
    "plt.ylabel('Salary')\n",
    "plt.show()"
   ]
  }
 ],
 "metadata": {
  "colab": {
   "authorship_tag": "ABX9TyPkSAAyT6lZPl3l4/vYw79H",
   "collapsed_sections": [],
   "name": "decision_tree_regression.ipynb",
   "provenance": [],
   "toc_visible": true
  },
  "kernelspec": {
   "display_name": "Python 3 (ipykernel)",
   "language": "python",
   "name": "python3"
  },
  "language_info": {
   "codemirror_mode": {
    "name": "ipython",
    "version": 3
   },
   "file_extension": ".py",
   "mimetype": "text/x-python",
   "name": "python",
   "nbconvert_exporter": "python",
   "pygments_lexer": "ipython3",
   "version": "3.7.7"
  }
 },
 "nbformat": 4,
 "nbformat_minor": 1
}
